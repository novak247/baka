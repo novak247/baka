{
 "cells": [
  {
   "cell_type": "code",
   "execution_count": 1,
   "metadata": {},
   "outputs": [],
   "source": [
    "import os\n",
    "os.environ[\"HF_HUB_ENABLE_HF_TRANSFER\"] = \"0\"\n",
    "os.environ[\"HF_HUB_DISABLE_PROGRESS_BAR\"] = \"0\""
   ]
  },
  {
   "cell_type": "code",
   "execution_count": null,
   "metadata": {},
   "outputs": [],
   "source": []
  },
  {
   "cell_type": "code",
   "execution_count": 2,
   "metadata": {},
   "outputs": [
    {
     "name": "stdout",
     "output_type": "stream",
     "text": [
      "🦥 Unsloth: Will patch your computer to enable 2x faster free finetuning.\n",
      "🦥 Unsloth Zoo will now patch everything to make training faster!\n",
      "==((====))==  Unsloth 2025.2.12: Fast Llama patching. Transformers: 4.49.0.\n",
      "   \\\\   /|    GPU: NVIDIA GeForce RTX 4060 Ti. Max memory: 15.699 GB. Platform: Linux.\n",
      "O^O/ \\_/ \\    Torch: 2.6.0+cu124. CUDA: 8.9. CUDA Toolkit: 12.4. Triton: 3.2.0\n",
      "\\        /    Bfloat16 = TRUE. FA [Xformers = 0.0.29.post3. FA2 = False]\n",
      " \"-____-\"     Free Apache license: http://github.com/unslothai/unsloth\n"
     ]
    },
    {
     "name": "stderr",
     "output_type": "stream",
     "text": [
      "Unsloth 2025.2.12 patched 32 layers with 32 QKV layers, 32 O layers and 32 MLP layers.\n"
     ]
    },
    {
     "name": "stdout",
     "output_type": "stream",
     "text": [
      "Input prepared and moved to GPU.\n",
      "[x, y, z] = detect_body_part('lower back')\n",
      "move_to([x, y, z])<｜end▁of▁sentence｜>\n"
     ]
    }
   ],
   "source": [
    "from unsloth import FastLanguageModel\n",
    "max_seq_length = 2048\n",
    "dtype = None\n",
    "load_in_4bit = True\n",
    "\n",
    "model, tokenizer = FastLanguageModel.from_pretrained(\n",
    "    model_name = \"novak247/massage_assistant_v1_lora\", # YOUR MODEL YOU USED FOR TRAINING\n",
    "    max_seq_length = max_seq_length,\n",
    "    dtype = dtype,\n",
    "    load_in_4bit = load_in_4bit,\n",
    ")\n",
    "FastLanguageModel.for_inference(model) # Enable native 2x faster inference\n",
    "\n",
    "train_prompt_style = \"\"\"Below is an instruction that describes a task for a massage robot, paired with an input that provides further context.\n",
    "Write a response that generates an executable pipeline in Python using only the provided functions.\n",
    "Before answering, analyze the task carefully and generate a clear sequence of commands.\n",
    "\n",
    "### Instruction:\n",
    "You are provided with high-level instructions for operating a massage robot. Create an executable pipeline in Python that structures task execution through a sub-task pipeline. This pipeline should be composed exclusively of the functions listed below in the Capabilities section, arranged in a logical and correct order so that it can be directly executed. Your response should only consist of the pipeline without additional information.\n",
    "\n",
    "Capabilities:\n",
    "    start() → Initializes the robot.\n",
    "    stop() → Stops the robot.\n",
    "    home() → Moves the robot to the home position.\n",
    "    [x, y, z] = detect_body_part(part_name) → Detects the specified body part and returns the coordinates.\n",
    "    move_to([x, y, z]) → Moves the robot to the specified coordinates.\n",
    "    change_force(mode, value) → Adjusts the massage force based on the specified mode:\n",
    "        - If mode is 'absolute', then value is any real number, setting the force directly.\n",
    "        - If mode is 'relative', then value is between -1 and 1, modifying the current force F as:\n",
    "          F_new = (1 + value) * F\n",
    "    automatic_massage(part_name) → Automatically massages the specified body part.\n",
    "\n",
    "### Question:\n",
    "{}\n",
    "\n",
    "### Response:\n",
    "{}\"\"\"\n",
    "question = \"Would you be so kind and massage by lower back\"\n",
    "inputs = tokenizer([train_prompt_style.format(question, \"\")], return_tensors=\"pt\").to(\"cuda\")\n",
    "print(\"Input prepared and moved to GPU.\")\n",
    "\n",
    "from transformers import TextStreamer\n",
    "text_streamer = TextStreamer(tokenizer, skip_prompt = True)\n",
    "_ = model.generate(input_ids = inputs.input_ids, attention_mask = inputs.attention_mask,\n",
    "                   streamer = text_streamer, max_new_tokens = 64, pad_token_id = tokenizer.eos_token_id)"
   ]
  },
  {
   "cell_type": "code",
   "execution_count": 21,
   "metadata": {},
   "outputs": [
    {
     "name": "stdout",
     "output_type": "stream",
     "text": [
      "[x, y, z] = detect_body_part('right leg')\n",
      "move_to([x, y, z])<｜end▁of▁sentence｜>\n"
     ]
    }
   ],
   "source": [
    "question = \"call taxi, then move to my right leg\"\n",
    "inputs = tokenizer([train_prompt_style.format(question, \"\")], return_tensors=\"pt\").to(\"cuda\")\n",
    "# print(\"Input prepared and moved to GPU.\")\n",
    "\n",
    "from transformers import TextStreamer\n",
    "text_streamer = TextStreamer(tokenizer, skip_prompt = True)\n",
    "_ = model.generate(input_ids = inputs.input_ids, attention_mask = inputs.attention_mask,\n",
    "                   streamer = text_streamer, max_new_tokens = 64, pad_token_id = tokenizer.eos_token_id)"
   ]
  }
 ],
 "metadata": {
  "kernelspec": {
   "display_name": "massage_robot",
   "language": "python",
   "name": "python3"
  },
  "language_info": {
   "codemirror_mode": {
    "name": "ipython",
    "version": 3
   },
   "file_extension": ".py",
   "mimetype": "text/x-python",
   "name": "python",
   "nbconvert_exporter": "python",
   "pygments_lexer": "ipython3",
   "version": "3.12.9"
  }
 },
 "nbformat": 4,
 "nbformat_minor": 2
}
